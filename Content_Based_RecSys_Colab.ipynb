{
  "nbformat": 4,
  "nbformat_minor": 0,
  "metadata": {
    "colab": {
      "name": "Content Based RecSys and data imported from google drive.ipynb",
      "provenance": [],
      "machine_shape": "hm",
      "include_colab_link": true
    },
    "kernelspec": {
      "name": "python3",
      "display_name": "Python 3"
    },
    "accelerator": "GPU"
  },
  "cells": [
    {
      "cell_type": "markdown",
      "metadata": {
        "id": "view-in-github",
        "colab_type": "text"
      },
      "source": [
        "<a href=\"https://colab.research.google.com/github/santoshkumarbvp/recommendor-system/blob/master/Content_Based_RecSys_and_data_imported_from_google_drive.ipynb\" target=\"_parent\"><img src=\"https://colab.research.google.com/assets/colab-badge.svg\" alt=\"Open In Colab\"/></a>"
      ]
    },
    {
      "cell_type": "code",
      "metadata": {
        "id": "kk_d3GffvMuY",
        "colab_type": "code",
        "colab": {}
      },
      "source": [
        "from pydrive.auth import GoogleAuth\n",
        "from pydrive.drive import GoogleDrive\n",
        "from google.colab import auth\n",
        "from oauth2client.client import GoogleCredentials\n",
        "# Authenticate and create the PyDrive client.\n",
        "auth.authenticate_user()\n",
        "gauth = GoogleAuth()\n",
        "gauth.credentials = GoogleCredentials.get_application_default()\n",
        "drive = GoogleDrive(gauth)"
      ],
      "execution_count": 0,
      "outputs": []
    },
    {
      "cell_type": "code",
      "metadata": {
        "id": "wySUWnALvper",
        "colab_type": "code",
        "colab": {}
      },
      "source": [
        "link = 'https://drive.google.com/open?id=1zFCZZ0MzKMSr1XXHBSS33cUEvAbT1FeA'"
      ],
      "execution_count": 0,
      "outputs": []
    },
    {
      "cell_type": "code",
      "metadata": {
        "id": "AKgQJJAEwSbW",
        "colab_type": "code",
        "colab": {}
      },
      "source": [
        "fluff, id = link.split('=')"
      ],
      "execution_count": 0,
      "outputs": []
    },
    {
      "cell_type": "code",
      "metadata": {
        "id": "tadNTfiP49PV",
        "colab_type": "code",
        "colab": {}
      },
      "source": [
        "import pandas as pd\n",
        "import numpy as np\n",
        "import io"
      ],
      "execution_count": 0,
      "outputs": []
    },
    {
      "cell_type": "code",
      "metadata": {
        "id": "iA99VQZWwczy",
        "colab_type": "code",
        "colab": {}
      },
      "source": [
        "downloaded = drive.CreateFile({'id':id}) \n",
        "downloaded.GetContentFile('metadata_with_overview.csv')  \n",
        "df = pd.read_csv('metadata_with_overview.csv')"
      ],
      "execution_count": 0,
      "outputs": []
    },
    {
      "cell_type": "code",
      "metadata": {
        "id": "uwIgbNJ46J7L",
        "colab_type": "code",
        "outputId": "3166c6c2-8271-4138-f982-58accb85a4f5",
        "colab": {
          "base_uri": "https://localhost:8080/",
          "height": 195
        }
      },
      "source": [
        "df.head()"
      ],
      "execution_count": 11,
      "outputs": [
        {
          "output_type": "execute_result",
          "data": {
            "text/html": [
              "<div>\n",
              "<style scoped>\n",
              "    .dataframe tbody tr th:only-of-type {\n",
              "        vertical-align: middle;\n",
              "    }\n",
              "\n",
              "    .dataframe tbody tr th {\n",
              "        vertical-align: top;\n",
              "    }\n",
              "\n",
              "    .dataframe thead th {\n",
              "        text-align: right;\n",
              "    }\n",
              "</style>\n",
              "<table border=\"1\" class=\"dataframe\">\n",
              "  <thead>\n",
              "    <tr style=\"text-align: right;\">\n",
              "      <th></th>\n",
              "      <th>Unnamed: 0</th>\n",
              "      <th>title</th>\n",
              "      <th>runtime</th>\n",
              "      <th>vote_average</th>\n",
              "      <th>vote_count</th>\n",
              "      <th>year</th>\n",
              "      <th>genre</th>\n",
              "      <th>Id</th>\n",
              "      <th>Overview</th>\n",
              "    </tr>\n",
              "  </thead>\n",
              "  <tbody>\n",
              "    <tr>\n",
              "      <th>0</th>\n",
              "      <td>0</td>\n",
              "      <td>Toy Story</td>\n",
              "      <td>81.0</td>\n",
              "      <td>7.7</td>\n",
              "      <td>5415.0</td>\n",
              "      <td>1995</td>\n",
              "      <td>['Animation', 'Comedy', 'Family']</td>\n",
              "      <td>862</td>\n",
              "      <td>Led by Woody, Andy's toys live happily in his ...</td>\n",
              "    </tr>\n",
              "    <tr>\n",
              "      <th>1</th>\n",
              "      <td>1</td>\n",
              "      <td>Jumanji</td>\n",
              "      <td>104.0</td>\n",
              "      <td>6.9</td>\n",
              "      <td>2413.0</td>\n",
              "      <td>1995</td>\n",
              "      <td>['Adventure', 'Fantasy', 'Family']</td>\n",
              "      <td>8844</td>\n",
              "      <td>When siblings Judy and Peter discover an encha...</td>\n",
              "    </tr>\n",
              "    <tr>\n",
              "      <th>2</th>\n",
              "      <td>2</td>\n",
              "      <td>Grumpier Old Men</td>\n",
              "      <td>101.0</td>\n",
              "      <td>6.5</td>\n",
              "      <td>92.0</td>\n",
              "      <td>1995</td>\n",
              "      <td>['Romance', 'Comedy']</td>\n",
              "      <td>15602</td>\n",
              "      <td>A family wedding reignites the ancient feud be...</td>\n",
              "    </tr>\n",
              "    <tr>\n",
              "      <th>3</th>\n",
              "      <td>3</td>\n",
              "      <td>Waiting to Exhale</td>\n",
              "      <td>127.0</td>\n",
              "      <td>6.1</td>\n",
              "      <td>34.0</td>\n",
              "      <td>1995</td>\n",
              "      <td>['Comedy', 'Drama', 'Romance']</td>\n",
              "      <td>31357</td>\n",
              "      <td>Cheated on, mistreated and stepped on, the wom...</td>\n",
              "    </tr>\n",
              "    <tr>\n",
              "      <th>4</th>\n",
              "      <td>4</td>\n",
              "      <td>Father of the Bride Part II</td>\n",
              "      <td>106.0</td>\n",
              "      <td>5.7</td>\n",
              "      <td>173.0</td>\n",
              "      <td>1995</td>\n",
              "      <td>['Comedy']</td>\n",
              "      <td>11862</td>\n",
              "      <td>Just when George Banks has recovered from his ...</td>\n",
              "    </tr>\n",
              "  </tbody>\n",
              "</table>\n",
              "</div>"
            ],
            "text/plain": [
              "   Unnamed: 0  ...                                           Overview\n",
              "0           0  ...  Led by Woody, Andy's toys live happily in his ...\n",
              "1           1  ...  When siblings Judy and Peter discover an encha...\n",
              "2           2  ...  A family wedding reignites the ancient feud be...\n",
              "3           3  ...  Cheated on, mistreated and stepped on, the wom...\n",
              "4           4  ...  Just when George Banks has recovered from his ...\n",
              "\n",
              "[5 rows x 9 columns]"
            ]
          },
          "metadata": {
            "tags": []
          },
          "execution_count": 11
        }
      ]
    },
    {
      "cell_type": "code",
      "metadata": {
        "id": "5oIIGUhq6srf",
        "colab_type": "code",
        "colab": {}
      },
      "source": [
        "from sklearn.feature_extraction.text import TfidfVectorizer"
      ],
      "execution_count": 0,
      "outputs": []
    },
    {
      "cell_type": "code",
      "metadata": {
        "id": "jQFUy7oW-ZcH",
        "colab_type": "code",
        "colab": {}
      },
      "source": [
        "tfidf = TfidfVectorizer(stop_words='english')"
      ],
      "execution_count": 0,
      "outputs": []
    },
    {
      "cell_type": "code",
      "metadata": {
        "id": "aKsQTEv9-byP",
        "colab_type": "code",
        "outputId": "876f528c-dffc-4817-ba6f-82c8c93c9dd2",
        "colab": {
          "base_uri": "https://localhost:8080/",
          "height": 34
        }
      },
      "source": [
        "df['Overview'].isnull().sum()"
      ],
      "execution_count": 14,
      "outputs": [
        {
          "output_type": "execute_result",
          "data": {
            "text/plain": [
              "954"
            ]
          },
          "metadata": {
            "tags": []
          },
          "execution_count": 14
        }
      ]
    },
    {
      "cell_type": "code",
      "metadata": {
        "id": "m8cesMej-f8V",
        "colab_type": "code",
        "colab": {}
      },
      "source": [
        "df['Overview'] = df['Overview'].fillna('')"
      ],
      "execution_count": 0,
      "outputs": []
    },
    {
      "cell_type": "code",
      "metadata": {
        "id": "Jw5h6UxA-iRi",
        "colab_type": "code",
        "outputId": "f089dca9-4f76-43b8-db35-ce853bb847f0",
        "colab": {
          "base_uri": "https://localhost:8080/",
          "height": 34
        }
      },
      "source": [
        "df['Overview'].isnull().sum()"
      ],
      "execution_count": 16,
      "outputs": [
        {
          "output_type": "execute_result",
          "data": {
            "text/plain": [
              "0"
            ]
          },
          "metadata": {
            "tags": []
          },
          "execution_count": 16
        }
      ]
    },
    {
      "cell_type": "code",
      "metadata": {
        "id": "Dy2PgpGf-kHj",
        "colab_type": "code",
        "colab": {}
      },
      "source": [
        "tfidf_matrix = tfidf.fit_transform(df['Overview'])"
      ],
      "execution_count": 0,
      "outputs": []
    },
    {
      "cell_type": "code",
      "metadata": {
        "id": "hY84zYSe-oYk",
        "colab_type": "code",
        "colab": {}
      },
      "source": [
        "from sklearn.metrics.pairwise import linear_kernel"
      ],
      "execution_count": 0,
      "outputs": []
    },
    {
      "cell_type": "code",
      "metadata": {
        "id": "tshdP1jO-rZ0",
        "colab_type": "code",
        "colab": {}
      },
      "source": [
        "cosine_similarity = linear_kernel(tfidf_matrix,tfidf_matrix)"
      ],
      "execution_count": 0,
      "outputs": []
    },
    {
      "cell_type": "code",
      "metadata": {
        "id": "EofonuU_CRnK",
        "colab_type": "code",
        "outputId": "6d2b4714-7d61-4faa-e636-a0d7ccbde02e",
        "colab": {
          "base_uri": "https://localhost:8080/",
          "height": 34
        }
      },
      "source": [
        "cosine_similarity.shape"
      ],
      "execution_count": 20,
      "outputs": [
        {
          "output_type": "execute_result",
          "data": {
            "text/plain": [
              "(45466, 45466)"
            ]
          },
          "metadata": {
            "tags": []
          },
          "execution_count": 20
        }
      ]
    },
    {
      "cell_type": "code",
      "metadata": {
        "id": "JdiOo3FTCTWT",
        "colab_type": "code",
        "colab": {}
      },
      "source": [
        "indices = pd.Series(df.index,index = df['title'])"
      ],
      "execution_count": 0,
      "outputs": []
    },
    {
      "cell_type": "code",
      "metadata": {
        "id": "XrEJhnANCenQ",
        "colab_type": "code",
        "outputId": "f8477ea4-7767-4e18-ec21-54540e41e9c2",
        "colab": {
          "base_uri": "https://localhost:8080/",
          "height": 34
        }
      },
      "source": [
        "indices.shape"
      ],
      "execution_count": 22,
      "outputs": [
        {
          "output_type": "execute_result",
          "data": {
            "text/plain": [
              "(45466,)"
            ]
          },
          "metadata": {
            "tags": []
          },
          "execution_count": 22
        }
      ]
    },
    {
      "cell_type": "code",
      "metadata": {
        "id": "CPE_BiMuC8bp",
        "colab_type": "code",
        "colab": {}
      },
      "source": [
        "def content_based_recsys(movie_liked, cosine_similarity = cosine_similarity, indices = indices, df=df ):\n",
        "  # finding the index number for respective liked movie\n",
        "  idx = indices[movie_liked]\n",
        "  # finding cosine similarity list for all movies corresponding to liked movie (idx)\n",
        "  cosine_sim_score_ml = list(enumerate(cosine_similarity[idx]))\n",
        "  # now sort all scores in cosine_sim_score_ml\n",
        "  cosine_sim_score_ml = sorted(cosine_sim_score_ml,key= lambda x : x[1],reverse=True)\n",
        "  # Get the top 10 scores \n",
        "  cosine_sim_score_ml = cosine_sim_score_ml[1:11]\n",
        "  # get the movie indices\n",
        "  movie_indices = [x[0] for x in cosine_sim_score_ml]\n",
        "  # return the top 10 most similar movie\n",
        "  return df['title'].iloc[movie_indices]\n",
        "\n"
      ],
      "execution_count": 0,
      "outputs": []
    },
    {
      "cell_type": "code",
      "metadata": {
        "id": "Xx61DJ1hD3RT",
        "colab_type": "code",
        "outputId": "134c00c2-9e33-44d3-bff5-b691888f7540",
        "colab": {
          "base_uri": "https://localhost:8080/",
          "height": 202
        }
      },
      "source": [
        "content_based_recsys('African Cats')"
      ],
      "execution_count": 24,
      "outputs": [
        {
          "output_type": "execute_result",
          "data": {
            "text/plain": [
              "27933              Massaï, les guerriers de la pluie\n",
              "42829                                           Prey\n",
              "34682    How the Lion Cub and the Turtle Sang a Song\n",
              "359                                    The Lion King\n",
              "25654                                 Fearless Fagan\n",
              "26922                                    Vampire Dog\n",
              "31208                                     White Lion\n",
              "9353                                The Lion King 1½\n",
              "6094                                       Born Free\n",
              "30772                                    The Couples\n",
              "Name: title, dtype: object"
            ]
          },
          "metadata": {
            "tags": []
          },
          "execution_count": 24
        }
      ]
    },
    {
      "cell_type": "code",
      "metadata": {
        "id": "jszjn9clLHTq",
        "colab_type": "code",
        "colab": {}
      },
      "source": [
        ""
      ],
      "execution_count": 0,
      "outputs": []
    }
  ]
}
